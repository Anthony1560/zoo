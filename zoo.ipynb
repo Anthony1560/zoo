{
 "cells": [
  {
   "cell_type": "code",
   "execution_count": null,
   "id": "b98cd697-0a85-494c-aea0-23f0c2e7b46c",
   "metadata": {},
   "outputs": [],
   "source": [
    "#open a new file called named 'zoo.pynb' in write mode\n",
    "with open(\"zoo.pynb\", \"w\") as f:\n",
    "    f.write(\"\"\"\n",
    "def hours():\n",
    "    print(\"Open 9-5 daily\")\n",
    "    \"\"\")"
   ]
  },
  {
   "cell_type": "markdown",
   "id": "1f3e022f-9077-4588-be0d-c1c7fabe04a8",
   "metadata": {},
   "source": [
    "#Result to display \"Open 9-5 daily\"\n",
    ">>> import zoo\n",
    ">>> zoo.hours()\n",
    "Open 9-5 daily"
   ]
  },
  {
   "cell_type": "code",
   "execution_count": null,
   "id": "71cf4ada-565a-489c-8696-f78380d70b45",
   "metadata": {},
   "outputs": [],
   "source": [
    "#Import for database interaction\n",
    ">>> import sqlalchemy\n",
    "\n",
    "#Connect to the SQlite database\n",
    ">>> conn = sqlalchemy.create_engine('sqlite:///books.db')\n",
    "\n",
    "#SQL query to select and order book titles alphabetically\n",
    ">>> sql = 'select title from book order by title asc'\n",
    "\n",
    "#Execute the query and store the results\n",
    ">>> rows = conn.execute(sql)\n",
    "\n",
    "#Print each book title from the query result\n",
    ">>> for row in rows:\n",
    "        print(row)\n"
   ]
  },
  {
   "cell_type": "markdown",
   "id": "76cc9d5a-7741-45b1-bd6b-72388e87b90e",
   "metadata": {},
   "source": [
    "#Title column from the book table in alphabetical order \n",
    "\n",
    "('Perdido Street Station',)\n",
    "('Small Gods',)\n",
    "('The Spellman Files',)\n",
    "('The Weirdstone of Brisingamen',)\n",
    "('Thud!',)"
   ]
  }
 ],
 "metadata": {
  "kernelspec": {
   "display_name": "Python 3 (ipykernel)",
   "language": "python",
   "name": "python3"
  },
  "language_info": {
   "codemirror_mode": {
    "name": "ipython",
    "version": 3
   },
   "file_extension": ".py",
   "mimetype": "text/x-python",
   "name": "python",
   "nbconvert_exporter": "python",
   "pygments_lexer": "ipython3",
   "version": "3.12.4"
  }
 },
 "nbformat": 4,
 "nbformat_minor": 5
}
